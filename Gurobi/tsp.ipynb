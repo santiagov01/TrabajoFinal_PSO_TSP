{
 "cells": [
  {
   "cell_type": "markdown",
   "metadata": {},
   "source": [
    "# Traveling Salesman Problem\n",
    "\n",
    "## Objective and Prerequisites\n",
    "\n",
    "In this example, you’ll learn how to tackle one of the most famous combinatorial optimization problems in existence: the Traveling Salesman Problem (TSP). The goal of the TSP – to find the shortest possible route that visits each city once and returns to the original city – is simple, but solving the problem is a complex and challenging endeavor. We’ll show you how to do it!\n",
    "\n",
    "This modeling example is at the advanced level, where we assume that you know Python and the Gurobi Python API and that you have advanced knowledge of building mathematical optimization models. Typically, the objective function and/or constraints of these examples are complex or require advanced features of the Gurobi Python API.\n",
    "\n",
    "**Download the Repository** <br />\n",
    "You can download the repository containing this and other examples by clicking [here](https://github.com/Gurobi/modeling-examples/archive/master.zip). "
   ]
  },
  {
   "cell_type": "markdown",
   "metadata": {},
   "source": [
    "## Motivation\n",
    "\n",
    "The Traveling Salesman Problem (TSP) is one of the most famous combinatorial optimization problems. This problem is very easy to explain, but very complicated to solve – even for instances with a small number of cities. More detailed information on the TSP can be found in the book The Traveling Salesman Problem: A Computational Study [1], or at the TSP home page [2]. If you are interested in the history and mathematical background of the TSP, we recommend that you watch the video by William Cook [3].\n",
    "\n",
    "The origin of the traveling salesman problem is not very clear; it is mentioned in an 1832 manual for traveling salesman, which included example tours of 45 German cities but was not formulated as a mathematical problem. However, in the 1800s, mathematicians William Rowan Hamilton and Thomas Kirkman devised mathematical formulations of the problem.\n",
    "\n",
    "It seems that the general form of the Traveling Salesman Problem was first studied by Karl Menger in Vienna and Harvard in the 1930s.\n",
    "\n",
    "The problem became more and more popular in the 1950s and 1960s. In particular, George Dantzig, D. Ray Fulkerson, and Selmer M. Johnson at the RAND Corporation solved the 48-state problem by formulating it as a linear programming problem. The methods they described in their paper on this topic set the foundation for future work in combinatorial optimization, especially highlighting the importance of cutting planes.\n",
    "\n",
    "In the early 1970s, the concept of P vs. NP problems created excitement in the theoretical computer science community. In 1972, Richard Karp demonstrated that the Hamiltonian cycle problem was NP-complete, implying that the traveling salesman problem was NP-hard.\n",
    "\n",
    "Increasingly sophisticated codes led to rapid increases in the sizes of the traveling salesman problems solved. Dantzig, Fulkerson, and Johnson had solved a 48-city instance of the problem in 1954. Martin Grötechel more than doubled this 23 years later, solving a 120-city instance in 1977. Harlan Crowder and Manfred W. Padberg again more than doubled this in just 3 years, with a 318-city solution.\n",
    "\n",
    "In 1987, rapid improvements were made, culminating in a 2,392-city solution by Padberg and Giovanni Rinaldi. In the following two decades, great strides were made with David L. Applegate, Robert E. Bixby, Vasek Chvátal, & William J. Cook solving a 3,308-city instance in 1992, a 7,397-city instance in 1994, a 24,978-city instance in 2004, and an 85,900-city instance in 2006 – which is the largest 2-D Euclidean TSP instance ever solved. William Cook et. al. wrote a program called Concorde TSP Solver for solving the TSP [4]. Concorde is a computer code for the symmetric TSP and some related network optimization problems. The code is written in the ANSI C programming language and it has been used to obtain the optimal solutions to the full set of 110 TSPLIB instances, the largest instance is a 109,399 node 3-D “star” instance.\n",
    "\n",
    "The continued interest in the TSP can be explained by its success as a general engine of discovery and a steady stream of new applications. Some of the general applications of the TSP are as follows:\n",
    "* Scheduling and routing problems.\n",
    "* Genome sequencing.\n",
    "* Drilling problems.\n",
    "* Aiming telescopes and x-rays.\n",
    "* Data clustering.\n",
    "* Machine scheduling.\n",
    "\n",
    "We use this classic combinatorial optimization problem to demonstrate how Gurobi can be used to easily and effectively solve small-sized problem instances of the TSP. However, in order to be able to solve larger instances, one needs more sophisticated techniques – such as those implemented in the Concord TSP Solver."
   ]
  },
  {
   "cell_type": "markdown",
   "metadata": {},
   "source": [
    "## Problem Description\n",
    "The TSP can be defined as follows: for a given list of cities and the distances between each pair of them, we want to find the shortest possible route that goes to each city once and returns to the origin city.\n",
    "\n",
    "There is a class of Traveling Salesman Problems that assumes that the distance of going from city $i$ to city $j$  is the same as going form city $j$ to city $i$, this type of Traveling Salesman Problem  is also known as the symmetric Traveling Salesman Problem. In this example, we use Euclidean distances, but the TSP model formulation is valid independent of the way in which the individual distances are determined.\n",
    "\n",
    "\n",
    "## Solution Approach\n",
    "\n",
    "Mathematical programming is a declarative approach where the modeler formulates a mathematical optimization model that captures the key aspects of a complex decision problem. The Gurobi Optimizer solves such models using state-of-the-art mathematics and computer science.\n",
    "\n",
    "A mathematical optimization model has five components, namely:\n",
    "\n",
    "* Sets and indices.\n",
    "* Parameters.\n",
    "* Decision variables.\n",
    "* Objective function(s).\n",
    "* Constraints.\n",
    "\n",
    "We now present a MIP formulation of the TSP that identifies the shortest route that goes to all the cities once and returns to the origin city.\n",
    "\n",
    "## TSP Model Formulation\n",
    "\n",
    "### Sets and Indices\n",
    "$i, j \\in Capitals $: indices and set of US capital cities.\n",
    "\n",
    "$\\text{Pairings}= \\{(i,j) \\in Capitals \\times Capitals \\}$: Set of allowed pairings\n",
    "\n",
    "$S \\subset Capitals$: A subset of the set of US capital cities.\n",
    "\n",
    "$G = (Capitals, Pairings)$: A graph where the set $Capitals$ defines the set of nodes and the set $Pairings$ defines the set of edges. \n",
    "\n",
    "### Parameters \n",
    "\n",
    "$d_{i, j} \\in \\mathbb{R}^+$: Distance from capital city $i$ to capital city $j$, for all $(i, j) \\in Pairings$. \n",
    "\n",
    "Notice that the distance from capital city $i$ to capital city $j$ is the same as the distance from capital city $j$ to capital city $i$, i.e. $d_{i, j} = d_{j, i}$. For this reason, this TSP is also called the symmetric Traveling Salesman Problem.\n",
    "\n",
    "### Decision Variables\n",
    "$x_{i, j} \\in \\{0, 1\\}$: This variable is equal to 1, if we decide to connect city $i$ with city $j$. Otherwise, the decision variable is equal to zero.\n",
    "\n",
    "### Objective Function\n",
    "- **Shortest Route**. Minimize the total distance of a route. A route is a sequence of capital cities where the salesperson visits each city only once and returns to the starting capital city.\n",
    "\n",
    "\\begin{equation}\n",
    "\\text{Min} \\quad Z = \\sum_{(i,j) \\in \\text{Pairings}}d_{i,j} \\cdot x_{i,j}\n",
    "\\tag{0}\n",
    "\\end{equation}\n",
    "\n",
    "### Constraints \n",
    "- **Symmetry Constraints**. For each edge $(i,j)$, ensure that the city capitals $i$ and $j$ are connected, if the former is visited immediately before or after visiting the latter.\n",
    "\n",
    "\\begin{equation}\n",
    "x_{i, j} = x_{j, i} \\quad \\forall (i, j) \\in Pairings\n",
    "\\tag{1}\n",
    "\\end{equation}\n",
    "\n",
    "- **Entering and leaving a capital city**. For each capital city $i$, ensure that this city is connected to two other cities. \n",
    "\n",
    "\\begin{equation}\n",
    "\\sum_{(i,j) \\in \\text{Pairings}}x_{i,j} = 2 \\quad \\forall  i \\in Capitals\n",
    "\\tag{2}\n",
    "\\end{equation}\n",
    "\n",
    "- **Subtour elimination**. These constraints ensure that for any subset of cities $S$ of the set of $Capitals$, there is no cycle. That is, there is no route that visits all the cities in the subset and returns to the origin city.\n",
    "\n",
    "\\begin{equation}\n",
    "\\sum_{(i \\neq j) \\in S}x_{i,j} \\leq |S|-1 \\quad \\forall  S \\subset  Capitals\n",
    "\\tag{3}\n",
    "\\end{equation}\n",
    "\n",
    "- **Remark**. In general, if the number of cities of the TSP is $n$, then the possible number of routes is n\\!.\n",
    "Since there are an exponential number of constraints ($2^{n} - 2$) to eliminate cycles, we use lazy constraints to dynamically eliminate those cycles. "
   ]
  },
  {
   "cell_type": "markdown",
   "metadata": {},
   "source": [
    "## Python Implementation\n",
    "\n",
    "Consider a salesperson that needs to visit customers at each state capital of the continental US. The salesperson wants to identify the shortest route that goes to all the state capitals.\n",
    "\n",
    "This modeling example requires the following libraries that are not part of the standard Python distribution:\n",
    "* **folium**: to create maps.\n",
    "* **gurobipy**: provides Gurobi algorithms to solve MIP models.\n"
   ]
  },
  {
   "cell_type": "markdown",
   "metadata": {},
   "source": [
    "### Reading Input Data\n",
    "The capital names and coordinates are read from a json file."
   ]
  },
  {
   "cell_type": "code",
   "execution_count": 163,
   "metadata": {},
   "outputs": [],
   "source": [
    "#%pip install gurobipy==11.0.3"
   ]
  },
  {
   "cell_type": "code",
   "execution_count": 164,
   "metadata": {},
   "outputs": [
    {
     "name": "stdout",
     "output_type": "stream",
     "text": [
      "{'New York': (40.712776, -74.005974), 'Los Angeles': (34.052235, -118.243683), 'Chicago': (41.878113, -87.629799), 'Houston': (29.760427, -95.369804), 'Phoenix': (33.448376, -112.074036), 'Philadelphia': (39.952583, -75.165222), 'San Antonio': (29.424122, -98.493629), 'San Diego': (32.715736, -117.161087), 'Dallas': (32.776665, -96.796989), 'San Jose': (37.338207, -121.88633), 'Austin': (30.267153, -97.743057), 'Jacksonville': (30.332184, -81.655647), 'Fort Worth': (32.755489, -97.330765), 'Columbus': (39.961178, -82.998795), 'Charlotte': (35.227085, -80.843124), 'San Francisco': (37.774929, -122.419418), 'Indianapolis': (39.768402, -86.158066), 'Seattle': (47.606209, -122.332069), 'Denver': (39.739235, -104.99025), 'Washington': (38.907192, -77.036873), 'Boston': (42.360081, -71.058884), 'El Paso': (31.761878, -106.485023), 'Nashville': (36.162663, -86.781601), 'Detroit': (42.331429, -83.045753), 'Oklahoma City': (35.46756, -97.516426), 'Portland': (45.51223, -122.658722), 'Las Vegas': (36.169941, -115.139832), 'Memphis': (35.149532, -90.048981), 'Louisville': (38.252666, -85.758453), 'Baltimore': (39.290386, -76.61219), 'Milwaukee': (43.038902, -87.906471), 'Albuquerque': (35.084385, -106.650421), 'Tucson': (32.222607, -110.974709), 'Fresno': (36.737797, -119.787125), 'Mesa': (33.415184, -111.831472), 'Sacramento': (38.581573, -121.4944), 'Atlanta': (33.748997, -84.387985), 'Kansas City': (39.099728, -94.578568), 'Colorado Springs': (38.833881, -104.821365), 'Miami': (25.761681, -80.191788), 'Raleigh': (35.779591, -78.638176), 'Omaha': (41.256538, -95.934502), 'Long Beach': (33.77005, -118.193741), 'Virginia Beach': (36.852926, -75.977985), 'Oakland': (37.804363, -122.271111), 'Minneapolis': (44.977753, -93.265015), 'Tulsa': (36.15398, -95.992775), 'Arlington': (32.735687, -97.108063), 'New Orleans': (29.951065, -90.071533), 'Wichita': (37.687176, -97.330055), 'Cleveland': (41.499321, -81.694359), 'Tampa': (27.950575, -82.457176), 'Bakersfield': (35.373291, -119.018715), 'Aurora': (39.729431, -104.831917), 'Anaheim': (33.836594, -117.914301), 'Santa Ana': (33.745472, -117.867653), 'Riverside': (33.980601, -117.375494), 'Corpus Christi': (27.800583, -97.396378), 'Lexington': (38.040585, -84.503716), 'Henderson': (36.039524, -114.981721), 'Stockton': (37.957702, -121.290779), 'Saint Paul': (44.953705, -93.089958), 'Cincinnati': (39.103119, -84.512016), 'St. Louis': (38.627003, -90.199402), 'Pittsburgh': (40.440624, -79.995888), 'Greensboro': (36.072636, -79.791977), 'Lincoln': (40.813618, -96.702595), 'Plano': (33.019844, -96.698883), 'Orlando': (28.538336, -81.379234), 'Irvine': (33.684567, -117.826508), 'Newark': (40.735657, -74.172363), 'Durham': (35.994034, -78.898621), 'Chula Vista': (32.640053, -117.084198), 'Toledo': (41.652805, -83.537865), 'Fort Wayne': (41.079273, -85.139351), 'St. Petersburg': (27.767601, -82.640289), 'Laredo': (27.530567, -99.480324), 'Jersey City': (40.717754, -74.043143), 'Chandler': (33.30616, -111.841248), 'Madison': (43.073051, -89.40123), 'Lubbock': (33.577863, -101.855166), 'Scottsdale': (33.49417, -111.926048), 'Reno': (39.529633, -119.813805), 'Buffalo': (42.886448, -78.878372), 'Gilbert': (33.352826, -111.789027), 'North Las Vegas': (36.198859, -115.117501), 'Winston-Salem': (36.099861, -80.244217), 'Chesapeake': (36.768208, -76.287491), 'Norfolk': (36.850769, -76.285873), 'Fremont': (37.548271, -121.988571), 'Garland': (32.912624, -96.638885), 'Irving': (32.814018, -96.948891), 'Hialeah': (25.857595, -80.278106), 'Richmond': (37.540726, -77.43605), 'Boise': (43.615021, -116.202316), 'Spokane': (47.658779, -117.426048), 'Baton Rouge': (30.451468, -91.187147), 'Tacoma': (47.252876, -122.44429), 'San Bernardino': (34.108345, -117.289765), 'Modesto': (37.639097, -120.996878), 'Fontana': (34.092233, -117.435048), 'Des Moines': (41.586835, -93.624962), 'Moreno Valley': (33.942467, -117.229672), 'Santa Clarita': (34.391664, -118.542586), 'Fayetteville': (35.052666, -78.878358), 'Birmingham': (33.518589, -86.810356), 'Oxnard': (34.197505, -119.177052), 'Rochester': (43.156578, -77.608849), 'Port St. Lucie': (27.273049, -80.358226), 'Grand Rapids': (42.96336, -85.668086), 'Huntsville': (34.730368, -86.586103), 'Salt Lake City': (40.76078, -111.891045), 'Frisco': (33.150674, -96.823612), 'Yonkers': (40.931209, -73.898746), 'Amarillo': (35.221997, -101.831297), 'Glendale': (34.142508, -118.255075), 'Huntington Beach': (33.660297, -117.999226), 'McKinney': (33.197246, -96.639782), 'Montgomery': (32.366805, -86.29997), 'Augusta': (33.473497, -82.010514), 'Akron': (41.081445, -81.519005), 'Little Rock': (34.746483, -92.289597), 'Tempe': (33.42551, -111.940005), 'Overland Park': (38.982228, -94.670792), 'Grand Prairie': (32.745964, -96.997785), 'Tallahassee': (30.438256, -84.280733), 'Cape Coral': (26.562854, -81.949533), 'Mobile': (30.695366, -88.039894), 'Knoxville': (35.960638, -83.920739), 'Shreveport': (32.525152, -93.750179), 'Worcester': (42.262593, -71.802293), 'Ontario': (34.063344, -117.650887), 'Vancouver': (45.638728, -122.661486), 'Sioux Falls': (43.544596, -96.731103), 'Chattanooga': (35.04563, -85.30968), 'Brownsville': (25.901747, -97.497484), 'Fort Lauderdale': (26.122439, -80.137317), 'Providence': (41.823989, -71.412834), 'Newport News': (37.087082, -76.473012), 'Rancho Cucamonga': (34.1064, -117.593108), 'Santa Rosa': (38.440429, -122.714054), 'Peoria': (33.580595, -112.237378), 'Oceanside': (33.195869, -117.379483), 'Elk Grove': (38.408799, -121.371618), 'Salem': (44.942898, -123.035096), 'Pembroke Pines': (26.007765, -80.296256), 'Eugene': (44.052071, -123.086754), 'Garden Grove': (33.774269, -117.937995), 'Cary': (35.79154, -78.781116), 'Fort Collins': (40.585258, -105.084419)}\n",
      "['New York', 'Los Angeles', 'Chicago', 'Houston', 'Phoenix', 'Philadelphia', 'San Antonio', 'San Diego', 'Dallas', 'San Jose', 'Austin', 'Jacksonville', 'Fort Worth', 'Columbus', 'Charlotte', 'San Francisco', 'Indianapolis', 'Seattle', 'Denver', 'Washington', 'Boston', 'El Paso', 'Nashville', 'Detroit', 'Oklahoma City', 'Portland', 'Las Vegas', 'Memphis', 'Louisville', 'Baltimore', 'Milwaukee', 'Albuquerque', 'Tucson', 'Fresno', 'Mesa', 'Sacramento', 'Atlanta', 'Kansas City', 'Colorado Springs', 'Miami', 'Raleigh', 'Omaha', 'Long Beach', 'Virginia Beach', 'Oakland', 'Minneapolis', 'Tulsa', 'Arlington', 'New Orleans', 'Wichita']\n"
     ]
    }
   ],
   "source": [
    "import json\n",
    "\n",
    "# Read capital names and coordinates from json file\n",
    "try:\n",
    "  capitals_json = json.load(open('capitals.json'))\n",
    "# when running locally the following lines can be omitted\n",
    "except: \n",
    "  import urllib.request\n",
    "  url = 'https://raw.githubusercontent.com/Gurobi/modeling-examples/master/traveling_salesman/capitals.json'\n",
    "  data = urllib.request.urlopen(url).read()\n",
    "  capitals_json = json.loads(data)\n",
    "\n",
    "# load cities.json\n",
    "cities_json = json.load(open('cities.json'))\n",
    "\n",
    "ciudades = 50\n",
    "capitals = (list(cities_json.keys()))[:ciudades]\n",
    "coordinates = {}\n",
    "for cit in cities_json:\n",
    "    coordinates[cit] = (float(cities_json[cit]['lat']), float(cities_json[cit]['long']))\n",
    "\n",
    "print(coordinates)\n",
    "print(capitals)"
   ]
  },
  {
   "cell_type": "markdown",
   "metadata": {},
   "source": [
    "### Data computation\n",
    "The following function calculates the distance for each pair of state capitals. Since we are solving the _symmetric_ traveling salesman problem, we use _combinations_ of cities."
   ]
  },
  {
   "cell_type": "code",
   "execution_count": 165,
   "metadata": {},
   "outputs": [],
   "source": [
    "import math\n",
    "from itertools import combinations\n",
    "\n",
    "# Compute pairwise distance matrix\n",
    "\n",
    "def distance(city1, city2):\n",
    "    c1 = coordinates[city1]\n",
    "    c2 = coordinates[city2]\n",
    "    diff = (c1[0]-c2[0], c1[1]-c2[1])\n",
    "    return math.sqrt(diff[0]*diff[0]+diff[1]*diff[1])\n",
    "\n",
    "dist = {(c1, c2): distance(c1, c2) for c1, c2 in combinations(capitals, 2)}"
   ]
  },
  {
   "cell_type": "markdown",
   "metadata": {},
   "source": [
    "### Model Code\n",
    "We now write the model for the TSP, by defining decision variables, constraints, and objective function. Because this is the _symmetric_ traveling salesman problem, we can make it more efficient by setting the _object_ x[j,i] to x[i,j], instead of a constraint."
   ]
  },
  {
   "cell_type": "code",
   "execution_count": 166,
   "metadata": {},
   "outputs": [],
   "source": [
    "import gurobipy as gp\n",
    "from gurobipy import GRB\n",
    "\n",
    "# tested with Python 3.7 & Gurobi 9.0.0\n",
    "\n",
    "m = gp.Model()\n",
    "\n",
    "# Variables: is city 'i' adjacent to city 'j' on the tour?\n",
    "vars = m.addVars(dist.keys(), obj=dist, vtype=GRB.BINARY, name='x')\n",
    "\n",
    "# Symmetric direction: use dict.update to alias variable with new key\n",
    "vars.update({(j,i):vars[i,j] for i,j in vars.keys()})\n",
    "\n",
    "# Constraints: two edges incident to each city\n",
    "cons = m.addConstrs(vars.sum(c, '*') == 2 for c in capitals)"
   ]
  },
  {
   "cell_type": "markdown",
   "metadata": {},
   "source": [
    "### Callback Definition\n",
    "Subtour constraints prevent multiple loops in a TSP tour. Because there are an exponential number of these constraints, we don't want to add them all to the model. Instead, we use a callback function to find violated subtour constraints and add them to the model as lazy constraints."
   ]
  },
  {
   "cell_type": "code",
   "execution_count": 167,
   "metadata": {},
   "outputs": [],
   "source": [
    "# Callback - use lazy constraints to eliminate sub-tours\n",
    "\n",
    "def subtourelim(model, where):\n",
    "    if where == GRB.Callback.MIPSOL:\n",
    "        # make a list of edges selected in the solution\n",
    "        vals = model.cbGetSolution(model._vars)\n",
    "        selected = gp.tuplelist((i, j) for i, j in model._vars.keys()\n",
    "                             if vals[i, j] > 0.5)\n",
    "        # find the shortest cycle in the selected edge list\n",
    "        tour = subtour(selected)\n",
    "        if len(tour) < len(capitals):\n",
    "            # add subtour elimination constr. for every pair of cities in subtour\n",
    "            model.cbLazy(gp.quicksum(model._vars[i, j] for i, j in combinations(tour, 2))\n",
    "                         <= len(tour)-1)\n",
    "\n",
    "# Given a tuplelist of edges, find the shortest subtour\n",
    "\n",
    "def subtour(edges):\n",
    "    unvisited = capitals[:]\n",
    "    cycle = capitals[:] # Dummy - guaranteed to be replaced\n",
    "    while unvisited:  # true if list is non-empty\n",
    "        thiscycle = []\n",
    "        neighbors = unvisited\n",
    "        while neighbors:\n",
    "            current = neighbors[0]\n",
    "            thiscycle.append(current)\n",
    "            unvisited.remove(current)\n",
    "            neighbors = [j for i, j in edges.select(current, '*')\n",
    "                         if j in unvisited]\n",
    "        if len(thiscycle) <= len(cycle):\n",
    "            cycle = thiscycle # New shortest subtour\n",
    "    return cycle"
   ]
  },
  {
   "cell_type": "markdown",
   "metadata": {},
   "source": [
    "## Solve the model"
   ]
  },
  {
   "cell_type": "code",
   "execution_count": 168,
   "metadata": {},
   "outputs": [
    {
     "name": "stdout",
     "output_type": "stream",
     "text": [
      "Set parameter LazyConstraints to value 1\n",
      "Gurobi Optimizer version 11.0.3 build v11.0.3rc0 (win64 - Windows 11+.0 (26100.2))\n",
      "\n",
      "CPU model: AMD Ryzen 5 3450U with Radeon Vega Mobile Gfx, instruction set [SSE2|AVX|AVX2]\n",
      "Thread count: 4 physical cores, 8 logical processors, using up to 8 threads\n",
      "\n",
      "Optimize a model with 50 rows, 1225 columns and 2450 nonzeros\n",
      "Model fingerprint: 0x1ed31792\n",
      "Variable types: 0 continuous, 1225 integer (1225 binary)\n",
      "Coefficient statistics:\n",
      "  Matrix range     [1e+00, 1e+00]\n",
      "  Objective range  [2e-01, 5e+01]\n",
      "  Bounds range     [1e+00, 1e+00]\n",
      "  RHS range        [2e+00, 2e+00]\n",
      "Found heuristic solution: objective 854.1459492\n",
      "Presolve time: 0.01s\n",
      "Presolved: 50 rows, 1225 columns, 2450 nonzeros\n",
      "Variable types: 0 continuous, 1225 integer (1225 binary)\n",
      "\n",
      "Root relaxation: objective 1.482157e+02, 66 iterations, 0.00 seconds (0.00 work units)\n",
      "\n",
      "    Nodes    |    Current Node    |     Objective Bounds      |     Work\n",
      " Expl Unexpl |  Obj  Depth IntInf | Incumbent    BestBd   Gap | It/Node Time\n",
      "\n",
      "     0     0  148.21566    0   12  854.14595  148.21566  82.6%     -    0s\n",
      "H    0     0                     210.4427932  148.21566  29.6%     -    0s\n",
      "H    0     0                     203.9227824  148.21566  27.3%     -    0s\n",
      "     0     0  151.00303    0    -  203.92278  151.00303  26.0%     -    0s\n",
      "     0     0  152.30912    0    6  203.92278  152.30912  25.3%     -    0s\n",
      "     0     0  152.64079    0   26  203.92278  152.64079  25.1%     -    0s\n",
      "     0     0  153.04836    0   24  203.92278  153.04836  24.9%     -    0s\n",
      "     0     0  159.08743    0    8  203.92278  159.08743  22.0%     -    0s\n",
      "     0     0  159.69389    0    8  203.92278  159.69389  21.7%     -    0s\n",
      "     0     2  161.36907    0    8  203.92278  161.36907  20.9%     -    0s\n",
      "*   56    43               9     176.6404229  162.41340  8.05%   5.6    0s\n",
      "*   59    37              11     174.4550309  162.64067  6.77%   6.1    0s\n",
      "*   72    32               4     173.2367205  163.18646  5.80%   6.7    0s\n",
      "*  112     0               7     173.1397226  170.16850  1.72%   8.8    0s\n",
      "\n",
      "Cutting planes:\n",
      "  Zero half: 6\n",
      "  Lazy constraints: 35\n",
      "\n",
      "Explored 121 nodes (1132 simplex iterations) in 0.80 seconds (0.07 work units)\n",
      "Thread count was 8 (of 8 available processors)\n",
      "\n",
      "Solution count 7: 173.14 173.237 174.455 ... 854.146\n",
      "\n",
      "Optimal solution found (tolerance 1.00e-04)\n",
      "Best objective 1.731397226202e+02, best bound 1.731397226202e+02, gap 0.0000%\n",
      "\n",
      "User-callback calls 622, time in user-callback 0.28 sec\n"
     ]
    }
   ],
   "source": [
    "m._vars = vars\n",
    "m.Params.lazyConstraints = 1\n",
    "m.optimize(subtourelim)"
   ]
  },
  {
   "cell_type": "markdown",
   "metadata": {},
   "source": [
    "## Analysis\n",
    "\n",
    "We retrieve the optimal solution of the TSP and verify that the optimal route (or tour) goes to all the cities and returns to the origin city."
   ]
  },
  {
   "cell_type": "code",
   "execution_count": 169,
   "metadata": {},
   "outputs": [],
   "source": [
    "# Retrieve solution\n",
    "\n",
    "vals = m.getAttr('x', vars)\n",
    "selected = gp.tuplelist((i, j) for i, j in vals.keys() if vals[i, j] > 0.5)\n",
    "\n",
    "tour = subtour(selected)\n",
    "assert len(tour) == len(capitals)"
   ]
  },
  {
   "cell_type": "markdown",
   "metadata": {},
   "source": [
    "The optimal route is displayed in the following map."
   ]
  },
  {
   "cell_type": "code",
   "execution_count": 170,
   "metadata": {},
   "outputs": [
    {
     "data": {
      "text/html": [
       "<div style=\"width:100%;\"><div style=\"position:relative;width:100%;height:0;padding-bottom:60%;\"><span style=\"color:#565656\">Make this Notebook Trusted to load map: File -> Trust Notebook</span><iframe srcdoc=\"&lt;!DOCTYPE html&gt;\n",
       "&lt;html&gt;\n",
       "&lt;head&gt;\n",
       "    \n",
       "    &lt;meta http-equiv=&quot;content-type&quot; content=&quot;text/html; charset=UTF-8&quot; /&gt;\n",
       "    \n",
       "        &lt;script&gt;\n",
       "            L_NO_TOUCH = false;\n",
       "            L_DISABLE_3D = false;\n",
       "        &lt;/script&gt;\n",
       "    \n",
       "    &lt;style&gt;html, body {width: 100%;height: 100%;margin: 0;padding: 0;}&lt;/style&gt;\n",
       "    &lt;style&gt;#map {position:absolute;top:0;bottom:0;right:0;left:0;}&lt;/style&gt;\n",
       "    &lt;script src=&quot;https://cdn.jsdelivr.net/npm/leaflet@1.9.3/dist/leaflet.js&quot;&gt;&lt;/script&gt;\n",
       "    &lt;script src=&quot;https://code.jquery.com/jquery-3.7.1.min.js&quot;&gt;&lt;/script&gt;\n",
       "    &lt;script src=&quot;https://cdn.jsdelivr.net/npm/bootstrap@5.2.2/dist/js/bootstrap.bundle.min.js&quot;&gt;&lt;/script&gt;\n",
       "    &lt;script src=&quot;https://cdnjs.cloudflare.com/ajax/libs/Leaflet.awesome-markers/2.0.2/leaflet.awesome-markers.js&quot;&gt;&lt;/script&gt;\n",
       "    &lt;link rel=&quot;stylesheet&quot; href=&quot;https://cdn.jsdelivr.net/npm/leaflet@1.9.3/dist/leaflet.css&quot;/&gt;\n",
       "    &lt;link rel=&quot;stylesheet&quot; href=&quot;https://cdn.jsdelivr.net/npm/bootstrap@5.2.2/dist/css/bootstrap.min.css&quot;/&gt;\n",
       "    &lt;link rel=&quot;stylesheet&quot; href=&quot;https://netdna.bootstrapcdn.com/bootstrap/3.0.0/css/bootstrap-glyphicons.css&quot;/&gt;\n",
       "    &lt;link rel=&quot;stylesheet&quot; href=&quot;https://cdn.jsdelivr.net/npm/@fortawesome/fontawesome-free@6.2.0/css/all.min.css&quot;/&gt;\n",
       "    &lt;link rel=&quot;stylesheet&quot; href=&quot;https://cdnjs.cloudflare.com/ajax/libs/Leaflet.awesome-markers/2.0.2/leaflet.awesome-markers.css&quot;/&gt;\n",
       "    &lt;link rel=&quot;stylesheet&quot; href=&quot;https://cdn.jsdelivr.net/gh/python-visualization/folium/folium/templates/leaflet.awesome.rotate.min.css&quot;/&gt;\n",
       "    \n",
       "            &lt;meta name=&quot;viewport&quot; content=&quot;width=device-width,\n",
       "                initial-scale=1.0, maximum-scale=1.0, user-scalable=no&quot; /&gt;\n",
       "            &lt;style&gt;\n",
       "                #map_a5b06a10d88fc5947265c71e95e18ddf {\n",
       "                    position: relative;\n",
       "                    width: 100.0%;\n",
       "                    height: 100.0%;\n",
       "                    left: 0.0%;\n",
       "                    top: 0.0%;\n",
       "                }\n",
       "                .leaflet-container { font-size: 1rem; }\n",
       "            &lt;/style&gt;\n",
       "        \n",
       "&lt;/head&gt;\n",
       "&lt;body&gt;\n",
       "    \n",
       "    \n",
       "            &lt;div class=&quot;folium-map&quot; id=&quot;map_a5b06a10d88fc5947265c71e95e18ddf&quot; &gt;&lt;/div&gt;\n",
       "        \n",
       "&lt;/body&gt;\n",
       "&lt;script&gt;\n",
       "    \n",
       "    \n",
       "            var map_a5b06a10d88fc5947265c71e95e18ddf = L.map(\n",
       "                &quot;map_a5b06a10d88fc5947265c71e95e18ddf&quot;,\n",
       "                {\n",
       "                    center: [40.0, -95.0],\n",
       "                    crs: L.CRS.EPSG3857,\n",
       "                    zoom: 4,\n",
       "                    zoomControl: true,\n",
       "                    preferCanvas: false,\n",
       "                }\n",
       "            );\n",
       "\n",
       "            \n",
       "\n",
       "        \n",
       "    \n",
       "            var tile_layer_1144b1f7007105ad7313c0499e97c515 = L.tileLayer(\n",
       "                &quot;https://tile.openstreetmap.org/{z}/{x}/{y}.png&quot;,\n",
       "                {&quot;attribution&quot;: &quot;\\u0026copy; \\u003ca href=\\&quot;https://www.openstreetmap.org/copyright\\&quot;\\u003eOpenStreetMap\\u003c/a\\u003e contributors&quot;, &quot;detectRetina&quot;: false, &quot;maxNativeZoom&quot;: 19, &quot;maxZoom&quot;: 19, &quot;minZoom&quot;: 0, &quot;noWrap&quot;: false, &quot;opacity&quot;: 1, &quot;subdomains&quot;: &quot;abc&quot;, &quot;tms&quot;: false}\n",
       "            );\n",
       "        \n",
       "    \n",
       "            tile_layer_1144b1f7007105ad7313c0499e97c515.addTo(map_a5b06a10d88fc5947265c71e95e18ddf);\n",
       "        \n",
       "    \n",
       "            var poly_line_f76b9b7a9bc46ec30b4daf09f81a75d6 = L.polyline(\n",
       "                [[40.712776, -74.005974], [39.952583, -75.165222], [39.290386, -76.61219], [38.907192, -77.036873], [36.852926, -75.977985], [35.779591, -78.638176], [35.227085, -80.843124], [25.761681, -80.191788], [30.332184, -81.655647], [33.748997, -84.387985], [36.162663, -86.781601], [35.149532, -90.048981], [29.951065, -90.071533], [29.760427, -95.369804], [32.776665, -96.796989], [32.735687, -97.108063], [32.755489, -97.330765], [30.267153, -97.743057], [29.424122, -98.493629], [31.761878, -106.485023], [35.084385, -106.650421], [32.222607, -110.974709], [33.415184, -111.831472], [33.448376, -112.074036], [36.169941, -115.139832], [32.715736, -117.161087], [33.77005, -118.193741], [34.052235, -118.243683], [36.737797, -119.787125], [37.338207, -121.88633], [37.774929, -122.419418], [37.804363, -122.271111], [38.581573, -121.4944], [45.51223, -122.658722], [47.606209, -122.332069], [39.739235, -104.99025], [38.833881, -104.821365], [37.687176, -97.330055], [35.46756, -97.516426], [36.15398, -95.992775], [39.099728, -94.578568], [41.256538, -95.934502], [44.977753, -93.265015], [43.038902, -87.906471], [41.878113, -87.629799], [39.768402, -86.158066], [38.252666, -85.758453], [39.961178, -82.998795], [42.331429, -83.045753], [42.360081, -71.058884], [40.712776, -74.005974]],\n",
       "                {&quot;bubblingMouseEvents&quot;: true, &quot;color&quot;: &quot;#3388ff&quot;, &quot;dashArray&quot;: null, &quot;dashOffset&quot;: null, &quot;fill&quot;: false, &quot;fillColor&quot;: &quot;#3388ff&quot;, &quot;fillOpacity&quot;: 0.2, &quot;fillRule&quot;: &quot;evenodd&quot;, &quot;lineCap&quot;: &quot;round&quot;, &quot;lineJoin&quot;: &quot;round&quot;, &quot;noClip&quot;: false, &quot;opacity&quot;: 1.0, &quot;smoothFactor&quot;: 1.0, &quot;stroke&quot;: true, &quot;weight&quot;: 3}\n",
       "            ).addTo(map_a5b06a10d88fc5947265c71e95e18ddf);\n",
       "        \n",
       "&lt;/script&gt;\n",
       "&lt;/html&gt;\" style=\"position:absolute;width:100%;height:100%;left:0;top:0;border:none !important;\" allowfullscreen webkitallowfullscreen mozallowfullscreen></iframe></div></div>"
      ],
      "text/plain": [
       "<folium.folium.Map at 0x2adceba8a90>"
      ]
     },
     "execution_count": 170,
     "metadata": {},
     "output_type": "execute_result"
    }
   ],
   "source": [
    "# Map the solution\n",
    "\n",
    "import folium\n",
    "\n",
    "map = folium.Map(location=[40,-95], zoom_start = 4)\n",
    "\n",
    "points = []\n",
    "for city in tour:\n",
    "  points.append(coordinates[city])\n",
    "points.append(points[0])\n",
    "\n",
    "folium.PolyLine(points).add_to(map)\n",
    "\n",
    "map"
   ]
  },
  {
   "cell_type": "code",
   "execution_count": 171,
   "metadata": {},
   "outputs": [
    {
     "name": "stdout",
     "output_type": "stream",
     "text": [
      "Freeing default Gurobi environment\n"
     ]
    }
   ],
   "source": [
    "m.dispose()\n",
    "gp.disposeDefaultEnv()"
   ]
  },
  {
   "cell_type": "markdown",
   "metadata": {},
   "source": [
    "## Conclusions\n",
    "\n",
    "The Traveling Salesman Problem (TSP) is the most popular combinatorial optimization problem. This problem is very easy to explain, although it is very complicated to solve. The largest TSP problem solved has 85,900 cities. The TSP is a source of discovery for new approaches to solve complex combinatorial optimization problems and has led to many applications.\n",
    "\n",
    "In this modeling example, we have shown how to formulate the symmetric Traveling Salesman Problem as a MIP problem. We also showed how to dynamically eliminate subtours by using lazy constraints. "
   ]
  },
  {
   "cell_type": "markdown",
   "metadata": {},
   "source": [
    "## References\n",
    "\n",
    "[1] D. L. Applegate, R. E. Bixby, V. Chvatal and W. J. Cook , The Traveling Salesman Problem: A Computational Study, Princeton University Press, Princeton, 2006.\n",
    "\n",
    "[2] http://www.math.uwaterloo.ca/tsp/index.html\n",
    "\n",
    "[3] https://www.youtube.com/watch?v=q8nQTNvCrjE&t=35s\n",
    "\n",
    "[4] http://www.math.uwaterloo.ca/tsp/concorde.html"
   ]
  },
  {
   "cell_type": "markdown",
   "metadata": {},
   "source": [
    "Copyright © 2020 Gurobi Optimization, LLC"
   ]
  }
 ],
 "metadata": {
  "kernelspec": {
   "display_name": "Python 3",
   "language": "python",
   "name": "python3"
  },
  "language_info": {
   "codemirror_mode": {
    "name": "ipython",
    "version": 3
   },
   "file_extension": ".py",
   "mimetype": "text/x-python",
   "name": "python",
   "nbconvert_exporter": "python",
   "pygments_lexer": "ipython3",
   "version": "3.11.9"
  }
 },
 "nbformat": 4,
 "nbformat_minor": 2
}
